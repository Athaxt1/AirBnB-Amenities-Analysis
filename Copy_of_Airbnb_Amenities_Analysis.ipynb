{
  "nbformat": 4,
  "nbformat_minor": 0,
  "metadata": {
    "colab": {
      "private_outputs": true,
      "provenance": [],
      "include_colab_link": true
    },
    "kernelspec": {
      "name": "python3",
      "display_name": "Python 3"
    },
    "language_info": {
      "name": "python"
    }
  },
  "cells": [
    {
      "cell_type": "markdown",
      "metadata": {
        "id": "view-in-github",
        "colab_type": "text"
      },
      "source": [
        "<a href=\"https://colab.research.google.com/github/Athaxt1/AirBnB-Amenities-Analysis/blob/main/Copy_of_Airbnb_Amenities_Analysis.ipynb\" target=\"_parent\"><img src=\"https://colab.research.google.com/assets/colab-badge.svg\" alt=\"Open In Colab\"/></a>"
      ]
    },
    {
      "cell_type": "markdown",
      "source": [
        "# Airbnb Amenities Analysis\n",
        "⌨ Aaron Thaxton\n",
        "\n",
        "This analysis explores different amenities offered in Airbnb listings in Salem, Oregon. The objective of this analysis is to determine which amenities in Salem are the most common, and which ones are the least commonly observed.\n",
        "\n",
        "## About the data\n",
        "This data set `airbnb.csv` comes from the Airbnb website and describes about 300 Airbnb listings in the Salem, Oregon area. The data describes many aspects of the listings including information about the hosts, listing description, and amenities offered at the facilities.\n",
        "\n",
        "## Analysis\n",
        "The goal of this analysis is to determine which amenities are the most common and which are the least common in the Salem, Oregon area. However, because the amenities are stored as lists in a single column of the data set, this information is difficult to analyze without the use of for loops.\n",
        "\n",
        "Use nested for loops to count up how many of each amenity exists in Airbnb listings in Salem, Oregon."
      ],
      "metadata": {
        "id": "9TJDGWiG7Vnd"
      }
    },
    {
      "cell_type": "code",
      "source": [
        "import pandas as pd\n",
        "df = pd.read_csv('airbnb.csv')\n",
        "df.head()"
      ],
      "metadata": {
        "id": "33sRxQU9-ULy"
      },
      "execution_count": null,
      "outputs": []
    },
    {
      "cell_type": "code",
      "source": [],
      "metadata": {
        "id": "lXnm-DdvMJyt"
      },
      "execution_count": null,
      "outputs": []
    },
    {
      "cell_type": "code",
      "source": [
        "count = 0\n",
        "for i, row in df.iterrows():\n",
        "  for amenity in eval(row['amenities']):\n",
        "    if amenity == 'Smoke alarm':\n",
        "      count += 1\n",
        "print(count)"
      ],
      "metadata": {
        "id": "YMxik3zzKjmi"
      },
      "execution_count": null,
      "outputs": []
    },
    {
      "cell_type": "code",
      "source": [
        "list = []\n",
        "for i, row in df.iterrows():\n",
        "  for amenity in eval(row['amenities']):\n",
        "    if amenity not in list:\n",
        "      list.append(amenity)\n",
        "print(list)"
      ],
      "metadata": {
        "id": "CHKubmFIMdT1"
      },
      "execution_count": null,
      "outputs": []
    },
    {
      "cell_type": "code",
      "source": [
        "count = 0\n",
        "for i, row in df.iterrows():\n",
        "  for amenity in eval(row['amenities']):\n",
        "    if amenity == 'Wifi':\n",
        "      count += 1\n",
        "print(count)"
      ],
      "metadata": {
        "id": "zKXd_vR_NZs7"
      },
      "execution_count": null,
      "outputs": []
    },
    {
      "cell_type": "code",
      "source": [
        "counter = {}\n",
        "\n",
        "for i, row in df.iterrows():\n",
        "  for amenity in eval(row['amenities']):\n",
        "    if amenity in counter:\n",
        "      counter[amenity] += 1\n",
        "    else:\n",
        "      counter[amenity] = 1\n",
        "\n",
        "counter\n",
        "\n",
        "for amenity in counter:\n",
        "  if counter[amenity] > 271:\n",
        "    print(amenity, counter[amenity])"
      ],
      "metadata": {
        "id": "RR3e5YY3NkD_"
      },
      "execution_count": null,
      "outputs": []
    },
    {
      "cell_type": "markdown",
      "source": [
        "To make this analysis even easier to read, let's loop through each amenity in the counter and only print out the ones that have more than 200 occurences."
      ],
      "metadata": {
        "id": "Zdpk1zlgCu46"
      }
    },
    {
      "cell_type": "code",
      "source": [],
      "metadata": {
        "id": "0DBXfNn5CPNl"
      },
      "execution_count": null,
      "outputs": []
    },
    {
      "cell_type": "markdown",
      "source": [
        "## Conclusion\n",
        "⌨ Write your conclusion here."
      ],
      "metadata": {
        "id": "tVW-XqP3FcFx"
      }
    }
  ]
}